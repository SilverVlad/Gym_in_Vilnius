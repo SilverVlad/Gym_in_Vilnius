{
 "cells": [
  {
   "cell_type": "markdown",
   "metadata": {},
   "source": [
    "# Coursera Capstone Project\n",
    "### Applied Data Science Capstone"
   ]
  },
  {
   "cell_type": "markdown",
   "metadata": {},
   "source": [
    "## Table of contents\n",
    "* [Introduction: Business Problem](#introduction)\n",
    "* [Data](#data)\n",
    "* [Methodology](#methodology)\n",
    "* [Analysis](#analysis)\n",
    "* [Results and Discussion](#results)\n",
    "* [Conclusion](#conclusion)"
   ]
  },
  {
   "cell_type": "markdown",
   "metadata": {},
   "source": [
    "## Introduction: Business Problem <a name=\"introduction\"></a>"
   ]
  },
  {
   "cell_type": "markdown",
   "metadata": {},
   "source": [
    "\n",
    "Vilnius is the capital and the largest city of Lithuania. The city itself has a population of ~550 000 people. Vilnius consist of 21 elderships, a statewide administrative division, which are based on neighbourhoods. Many people around the world are facing serious health issues associated with unhealthy eating habits and a lack of exercise.  With growing health concerns, more people are joining gyms for exercise and the motivation to change their eating habits. Lately Vilnius has beed growing very fast resulting in growing demand of gyms. \n"
   ]
  },
  {
   "cell_type": "markdown",
   "metadata": {},
   "source": [
    "Ths final project explores the best places to open new gym throughout the city of Vilnius. Questions that will be answered in this project:\n",
    "1.\tIs there any location without gym?\n",
    "2.\tWhich areas have large number of gyms?\n",
    "3.\tWhich areas have least number of gyms?\n",
    "4. What are areas with least competition? (at least one gym in that area)"
   ]
  },
  {
   "cell_type": "markdown",
   "metadata": {},
   "source": [
    "## Data <a name=\"data\"></a>"
   ]
  },
  {
   "cell_type": "markdown",
   "metadata": {},
   "source": [
    "Based on definition of our problem, factor that will influence our decission is number of existing gyms in the neighborhood (or any type of fitness center)\n",
    "\n",
    "To solve the problem, we will need the following data:\n",
    "1.\tVilnius city data containg neighborhoods.\n",
    "2.\tCoordinates of those neighborhoods.\n",
    "3.\tVenue data, particulary data related to fitness industry."
   ]
  },
  {
   "cell_type": "markdown",
   "metadata": {},
   "source": [
    "### Before we get the data and start exploring it, let's import all required libraries"
   ]
  },
  {
   "cell_type": "code",
   "execution_count": 1,
   "metadata": {},
   "outputs": [],
   "source": [
    "import pandas as pd\n",
    "import numpy as np\n",
    "import requests\n",
    "from bs4 import BeautifulSoup\n",
    "import os\n",
    "from sklearn.cluster import KMeans\n",
    "import folium \n",
    "from geopy.geocoders import Nominatim \n",
    "import matplotlib.cm as cm\n",
    "import matplotlib.colors as colors\n",
    "import seaborn as sns\n",
    "import haversine as hs\n",
    "import math\n",
    "from kneed import KneeLocator\n",
    "from sklearn.datasets import make_blobs\n",
    "from sklearn.cluster import KMeans\n",
    "from sklearn.metrics import silhouette_score\n",
    "from sklearn.preprocessing import StandardScaler\n",
    "import matplotlib.pyplot as plt"
   ]
  },
  {
   "cell_type": "markdown",
   "metadata": {},
   "source": [
    "As first step we will collect data about neighborhoods in Vilnius from Wikipedia"
   ]
  },
  {
   "cell_type": "code",
   "execution_count": 2,
   "metadata": {},
   "outputs": [],
   "source": [
    "column_names = ['Neighborhood']\n",
    "df = pd.DataFrame(columns = column_names)"
   ]
  },
  {
   "cell_type": "code",
   "execution_count": 3,
   "metadata": {},
   "outputs": [],
   "source": [
    "url = \"https://en.wikipedia.org/wiki/Neighborhoods_of_Vilnius\"\n",
    "source = requests.get(url).text"
   ]
  },
  {
   "cell_type": "code",
   "execution_count": 4,
   "metadata": {},
   "outputs": [],
   "source": [
    "soup = BeautifulSoup(source, 'lxml')\n",
    "table=soup.find('table', {'class':'sortable wikitable'})\n",
    "links = table.find_all('a')"
   ]
  },
  {
   "cell_type": "code",
   "execution_count": 5,
   "metadata": {},
   "outputs": [],
   "source": [
    "neighborhoods = []\n",
    "for link in links:\n",
    "    neighborhoods.append(link.get('title'))\n",
    "df['Neighborhood'] = neighborhoods"
   ]
  },
  {
   "cell_type": "code",
   "execution_count": 6,
   "metadata": {},
   "outputs": [
    {
     "data": {
      "text/html": [
       "<div>\n",
       "<style scoped>\n",
       "    .dataframe tbody tr th:only-of-type {\n",
       "        vertical-align: middle;\n",
       "    }\n",
       "\n",
       "    .dataframe tbody tr th {\n",
       "        vertical-align: top;\n",
       "    }\n",
       "\n",
       "    .dataframe thead th {\n",
       "        text-align: right;\n",
       "    }\n",
       "</style>\n",
       "<table border=\"1\" class=\"dataframe\">\n",
       "  <thead>\n",
       "    <tr style=\"text-align: right;\">\n",
       "      <th></th>\n",
       "      <th>Neighborhood</th>\n",
       "    </tr>\n",
       "  </thead>\n",
       "  <tbody>\n",
       "    <tr>\n",
       "      <th>0</th>\n",
       "      <td>Verkiai</td>\n",
       "    </tr>\n",
       "    <tr>\n",
       "      <th>1</th>\n",
       "      <td>Antakalnis</td>\n",
       "    </tr>\n",
       "    <tr>\n",
       "      <th>2</th>\n",
       "      <td>Pašilaičiai</td>\n",
       "    </tr>\n",
       "    <tr>\n",
       "      <th>3</th>\n",
       "      <td>Fabijoniškės</td>\n",
       "    </tr>\n",
       "    <tr>\n",
       "      <th>4</th>\n",
       "      <td>Pilaitė</td>\n",
       "    </tr>\n",
       "    <tr>\n",
       "      <th>5</th>\n",
       "      <td>Justiniškės</td>\n",
       "    </tr>\n",
       "    <tr>\n",
       "      <th>6</th>\n",
       "      <td>Viršuliškės</td>\n",
       "    </tr>\n",
       "    <tr>\n",
       "      <th>7</th>\n",
       "      <td>Šeškinė</td>\n",
       "    </tr>\n",
       "    <tr>\n",
       "      <th>8</th>\n",
       "      <td>Šnipiškės</td>\n",
       "    </tr>\n",
       "    <tr>\n",
       "      <th>9</th>\n",
       "      <td>Žirmūnai</td>\n",
       "    </tr>\n",
       "    <tr>\n",
       "      <th>10</th>\n",
       "      <td>Karoliniškės</td>\n",
       "    </tr>\n",
       "    <tr>\n",
       "      <th>11</th>\n",
       "      <td>Žvėrynas</td>\n",
       "    </tr>\n",
       "    <tr>\n",
       "      <th>12</th>\n",
       "      <td>Grigiškės</td>\n",
       "    </tr>\n",
       "    <tr>\n",
       "      <th>13</th>\n",
       "      <td>Lazdynai</td>\n",
       "    </tr>\n",
       "    <tr>\n",
       "      <th>14</th>\n",
       "      <td>Vilkpėdė</td>\n",
       "    </tr>\n",
       "    <tr>\n",
       "      <th>15</th>\n",
       "      <td>Naujamiestis, Vilnius</td>\n",
       "    </tr>\n",
       "    <tr>\n",
       "      <th>16</th>\n",
       "      <td>Vilnius Old Town</td>\n",
       "    </tr>\n",
       "    <tr>\n",
       "      <th>17</th>\n",
       "      <td>Naujoji Vilnia</td>\n",
       "    </tr>\n",
       "    <tr>\n",
       "      <th>18</th>\n",
       "      <td>Paneriai</td>\n",
       "    </tr>\n",
       "    <tr>\n",
       "      <th>19</th>\n",
       "      <td>Naujininkai</td>\n",
       "    </tr>\n",
       "    <tr>\n",
       "      <th>20</th>\n",
       "      <td>Rasos (district)</td>\n",
       "    </tr>\n",
       "  </tbody>\n",
       "</table>\n",
       "</div>"
      ],
      "text/plain": [
       "             Neighborhood\n",
       "0                 Verkiai\n",
       "1              Antakalnis\n",
       "2             Pašilaičiai\n",
       "3            Fabijoniškės\n",
       "4                 Pilaitė\n",
       "5             Justiniškės\n",
       "6             Viršuliškės\n",
       "7                 Šeškinė\n",
       "8               Šnipiškės\n",
       "9                Žirmūnai\n",
       "10           Karoliniškės\n",
       "11               Žvėrynas\n",
       "12              Grigiškės\n",
       "13               Lazdynai\n",
       "14               Vilkpėdė\n",
       "15  Naujamiestis, Vilnius\n",
       "16       Vilnius Old Town\n",
       "17         Naujoji Vilnia\n",
       "18               Paneriai\n",
       "19            Naujininkai\n",
       "20       Rasos (district)"
      ]
     },
     "execution_count": 6,
     "metadata": {},
     "output_type": "execute_result"
    }
   ],
   "source": [
    "df = df.iloc[5:]\n",
    "df = df.reset_index()\n",
    "del df['index']\n",
    "df"
   ]
  },
  {
   "cell_type": "markdown",
   "metadata": {},
   "source": [
    "Adding aditional latitude and longitude columns and filling them by getting coordinates from Geolocator"
   ]
  },
  {
   "cell_type": "code",
   "execution_count": 7,
   "metadata": {},
   "outputs": [],
   "source": [
    "df.insert(1, 'Latitude', True)\n",
    "df.insert(2, 'Longitude', True)"
   ]
  },
  {
   "cell_type": "code",
   "execution_count": 8,
   "metadata": {},
   "outputs": [
    {
     "name": "stdout",
     "output_type": "stream",
     "text": [
      "Found Verkiai coordinates\n",
      "Found Antakalnis coordinates\n",
      "Found Pašilaičiai coordinates\n",
      "Found Fabijoniškės coordinates\n",
      "Found Pilaitė coordinates\n",
      "Found Justiniškės coordinates\n",
      "Found Viršuliškės coordinates\n",
      "Found Šeškinė coordinates\n",
      "Found Šnipiškės coordinates\n",
      "Found Žirmūnai coordinates\n",
      "Found Karoliniškės coordinates\n",
      "Found Žvėrynas coordinates\n",
      "Found Grigiškės coordinates\n",
      "Found Lazdynai coordinates\n",
      "Found Vilkpėdė coordinates\n",
      "Found Naujamiestis, Vilnius coordinates\n",
      "Found Vilnius Old Town coordinates\n",
      "Found Naujoji Vilnia coordinates\n",
      "Found Paneriai coordinates\n",
      "Found Naujininkai coordinates\n",
      "Found Rasos (district) coordinates\n",
      "Got all needed coordinates\n"
     ]
    }
   ],
   "source": [
    "Latitude_list = []\n",
    "Longitude_list = []\n",
    "geolocator = Nominatim(user_agent=\"Neighborhood_explorer\")\n",
    "for n in range(0, df.shape[0]):\n",
    "    address = df['Neighborhood'].values[n]\n",
    "    print(f'Found {address} coordinates')\n",
    "    location = geolocator.geocode(address)\n",
    "    Latitude_list.append(location.latitude)\n",
    "    Longitude_list.append(location.longitude)\n",
    "print(\"Got all needed coordinates\")"
   ]
  },
  {
   "cell_type": "code",
   "execution_count": 9,
   "metadata": {},
   "outputs": [],
   "source": [
    "df['Latitude'] = Latitude_list\n",
    "df['Longitude'] = Longitude_list\n",
    "df = df[df.Latitude != 0]"
   ]
  },
  {
   "cell_type": "code",
   "execution_count": 10,
   "metadata": {},
   "outputs": [
    {
     "data": {
      "text/html": [
       "<div>\n",
       "<style scoped>\n",
       "    .dataframe tbody tr th:only-of-type {\n",
       "        vertical-align: middle;\n",
       "    }\n",
       "\n",
       "    .dataframe tbody tr th {\n",
       "        vertical-align: top;\n",
       "    }\n",
       "\n",
       "    .dataframe thead th {\n",
       "        text-align: right;\n",
       "    }\n",
       "</style>\n",
       "<table border=\"1\" class=\"dataframe\">\n",
       "  <thead>\n",
       "    <tr style=\"text-align: right;\">\n",
       "      <th></th>\n",
       "      <th>Neighborhood</th>\n",
       "      <th>Latitude</th>\n",
       "      <th>Longitude</th>\n",
       "    </tr>\n",
       "  </thead>\n",
       "  <tbody>\n",
       "    <tr>\n",
       "      <th>0</th>\n",
       "      <td>Verkiai</td>\n",
       "      <td>54.750657</td>\n",
       "      <td>25.294767</td>\n",
       "    </tr>\n",
       "    <tr>\n",
       "      <th>1</th>\n",
       "      <td>Antakalnis</td>\n",
       "      <td>54.705639</td>\n",
       "      <td>25.314538</td>\n",
       "    </tr>\n",
       "    <tr>\n",
       "      <th>2</th>\n",
       "      <td>Pašilaičiai</td>\n",
       "      <td>54.728487</td>\n",
       "      <td>25.228916</td>\n",
       "    </tr>\n",
       "    <tr>\n",
       "      <th>3</th>\n",
       "      <td>Fabijoniškės</td>\n",
       "      <td>54.726411</td>\n",
       "      <td>25.249242</td>\n",
       "    </tr>\n",
       "    <tr>\n",
       "      <th>4</th>\n",
       "      <td>Pilaitė</td>\n",
       "      <td>54.705676</td>\n",
       "      <td>25.183502</td>\n",
       "    </tr>\n",
       "    <tr>\n",
       "      <th>5</th>\n",
       "      <td>Justiniškės</td>\n",
       "      <td>54.717860</td>\n",
       "      <td>25.220205</td>\n",
       "    </tr>\n",
       "    <tr>\n",
       "      <th>6</th>\n",
       "      <td>Viršuliškės</td>\n",
       "      <td>54.705351</td>\n",
       "      <td>25.228871</td>\n",
       "    </tr>\n",
       "    <tr>\n",
       "      <th>7</th>\n",
       "      <td>Šeškinė</td>\n",
       "      <td>54.712653</td>\n",
       "      <td>25.252203</td>\n",
       "    </tr>\n",
       "    <tr>\n",
       "      <th>8</th>\n",
       "      <td>Šnipiškės</td>\n",
       "      <td>54.701755</td>\n",
       "      <td>25.278558</td>\n",
       "    </tr>\n",
       "    <tr>\n",
       "      <th>9</th>\n",
       "      <td>Žirmūnai</td>\n",
       "      <td>54.711172</td>\n",
       "      <td>25.298810</td>\n",
       "    </tr>\n",
       "    <tr>\n",
       "      <th>10</th>\n",
       "      <td>Karoliniškės</td>\n",
       "      <td>54.693085</td>\n",
       "      <td>25.213158</td>\n",
       "    </tr>\n",
       "    <tr>\n",
       "      <th>11</th>\n",
       "      <td>Žvėrynas</td>\n",
       "      <td>54.694633</td>\n",
       "      <td>25.251033</td>\n",
       "    </tr>\n",
       "    <tr>\n",
       "      <th>12</th>\n",
       "      <td>Grigiškės</td>\n",
       "      <td>54.671219</td>\n",
       "      <td>25.091244</td>\n",
       "    </tr>\n",
       "    <tr>\n",
       "      <th>13</th>\n",
       "      <td>Lazdynai</td>\n",
       "      <td>54.676035</td>\n",
       "      <td>25.209932</td>\n",
       "    </tr>\n",
       "    <tr>\n",
       "      <th>14</th>\n",
       "      <td>Vilkpėdė</td>\n",
       "      <td>54.662681</td>\n",
       "      <td>25.234742</td>\n",
       "    </tr>\n",
       "    <tr>\n",
       "      <th>15</th>\n",
       "      <td>Naujamiestis, Vilnius</td>\n",
       "      <td>54.680996</td>\n",
       "      <td>25.265121</td>\n",
       "    </tr>\n",
       "    <tr>\n",
       "      <th>16</th>\n",
       "      <td>Vilnius Old Town</td>\n",
       "      <td>54.681873</td>\n",
       "      <td>25.288404</td>\n",
       "    </tr>\n",
       "    <tr>\n",
       "      <th>17</th>\n",
       "      <td>Naujoji Vilnia</td>\n",
       "      <td>54.695211</td>\n",
       "      <td>25.403053</td>\n",
       "    </tr>\n",
       "    <tr>\n",
       "      <th>18</th>\n",
       "      <td>Paneriai</td>\n",
       "      <td>54.629718</td>\n",
       "      <td>25.177071</td>\n",
       "    </tr>\n",
       "    <tr>\n",
       "      <th>19</th>\n",
       "      <td>Naujininkai</td>\n",
       "      <td>54.661222</td>\n",
       "      <td>25.271826</td>\n",
       "    </tr>\n",
       "    <tr>\n",
       "      <th>20</th>\n",
       "      <td>Rasos (district)</td>\n",
       "      <td>55.360395</td>\n",
       "      <td>21.439023</td>\n",
       "    </tr>\n",
       "  </tbody>\n",
       "</table>\n",
       "</div>"
      ],
      "text/plain": [
       "             Neighborhood   Latitude  Longitude\n",
       "0                 Verkiai  54.750657  25.294767\n",
       "1              Antakalnis  54.705639  25.314538\n",
       "2             Pašilaičiai  54.728487  25.228916\n",
       "3            Fabijoniškės  54.726411  25.249242\n",
       "4                 Pilaitė  54.705676  25.183502\n",
       "5             Justiniškės  54.717860  25.220205\n",
       "6             Viršuliškės  54.705351  25.228871\n",
       "7                 Šeškinė  54.712653  25.252203\n",
       "8               Šnipiškės  54.701755  25.278558\n",
       "9                Žirmūnai  54.711172  25.298810\n",
       "10           Karoliniškės  54.693085  25.213158\n",
       "11               Žvėrynas  54.694633  25.251033\n",
       "12              Grigiškės  54.671219  25.091244\n",
       "13               Lazdynai  54.676035  25.209932\n",
       "14               Vilkpėdė  54.662681  25.234742\n",
       "15  Naujamiestis, Vilnius  54.680996  25.265121\n",
       "16       Vilnius Old Town  54.681873  25.288404\n",
       "17         Naujoji Vilnia  54.695211  25.403053\n",
       "18               Paneriai  54.629718  25.177071\n",
       "19            Naujininkai  54.661222  25.271826\n",
       "20       Rasos (district)  55.360395  21.439023"
      ]
     },
     "execution_count": 10,
     "metadata": {},
     "output_type": "execute_result"
    }
   ],
   "source": [
    "df"
   ]
  },
  {
   "cell_type": "markdown",
   "metadata": {},
   "source": [
    "Let's see how those neighborhoods look on the map"
   ]
  },
  {
   "cell_type": "code",
   "execution_count": 11,
   "metadata": {},
   "outputs": [
    {
     "name": "stdout",
     "output_type": "stream",
     "text": [
      "The geograpical coordinate of VIlnius are 54.6870458, 25.2829111.\n"
     ]
    }
   ],
   "source": [
    "address = 'Vilnius'\n",
    "geolocator = Nominatim(user_agent=\"vilnius_explorer\")\n",
    "location = geolocator.geocode(address)\n",
    "latitude = location.latitude\n",
    "longitude = location.longitude\n",
    "print('The geograpical coordinate of VIlnius are {}, {}.'.format(latitude, longitude))"
   ]
  },
  {
   "cell_type": "code",
   "execution_count": 12,
   "metadata": {},
   "outputs": [],
   "source": [
    "map_vilnius = folium.Map(location=[latitude, longitude], zoom_start=12)"
   ]
  },
  {
   "cell_type": "code",
   "execution_count": 13,
   "metadata": {},
   "outputs": [],
   "source": [
    "for lat, lng, neighborhood in zip(df['Latitude'], df['Longitude'], df['Neighborhood']):\n",
    "    label = '{}'.format(neighborhood)\n",
    "    label = folium.Popup(label, parse_html=True)\n",
    "    folium.CircleMarker(\n",
    "        [lat, lng],\n",
    "        radius=10,\n",
    "        popup=label,\n",
    "        color='green',\n",
    "        fill=True,\n",
    "        fill_color='green',\n",
    "        fill_opacity=0.7,\n",
    "        parse_html=False).add_to(map_vilnius)  "
   ]
  },
  {
   "cell_type": "code",
   "execution_count": 14,
   "metadata": {},
   "outputs": [
    {
     "data": {
      "text/html": [
       "<div style=\"width:100%;\"><div style=\"position:relative;width:100%;height:0;padding-bottom:60%;\"><span style=\"color:#565656\">Make this Notebook Trusted to load map: File -> Trust Notebook</span><iframe src=\"about:blank\" style=\"position:absolute;width:100%;height:100%;left:0;top:0;border:none !important;\" data-html=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 onload=\"this.contentDocument.open();this.contentDocument.write(atob(this.getAttribute('data-html')));this.contentDocument.close();\" allowfullscreen webkitallowfullscreen mozallowfullscreen></iframe></div></div>"
      ],
      "text/plain": [
       "<folium.folium.Map at 0x1e11098e940>"
      ]
     },
     "execution_count": 14,
     "metadata": {},
     "output_type": "execute_result"
    }
   ],
   "source": [
    "map_vilnius"
   ]
  },
  {
   "cell_type": "markdown",
   "metadata": {},
   "source": [
    "Ok, that we have our location candidates, let's use Foursquare API to get info on venues in each neighborhood.\n",
    "\n",
    "We're interested in venues in 'fitness industry' and 'gym' category. So we will include in out list only venues that have 'fitness industry' and 'gym' in category name."
   ]
  },
  {
   "cell_type": "code",
   "execution_count": 15,
   "metadata": {},
   "outputs": [],
   "source": [
    "CLIENT_ID = '4SAVD3VYNQPF2H22VYRW0E3DWQGDRAXOADZDIG4HCYQIOC1X' # Foursquare ID\n",
    "CLIENT_SECRET = 'TI43JF23DNM5R2YHRVRHPSIZX4O3YD4013G2TGW0HTHEI2IM' # your Foursquare Secret\n",
    "VERSION = '20180604'"
   ]
  },
  {
   "cell_type": "code",
   "execution_count": 16,
   "metadata": {},
   "outputs": [],
   "source": [
    "def getNearbyVenues(names, latitudes, longitudes):\n",
    "    radius=1500\n",
    "    LIMIT=500\n",
    "    venues_list=[]\n",
    "    categoryID = '4bf58dd8d48988d175941735'\n",
    "    for name, lat, lng in zip(names, latitudes, longitudes):\n",
    "        print(name)\n",
    "            \n",
    "        # create the API request URL\n",
    "        url = 'https://api.foursquare.com/v2/venues/explore?&client_id={}&client_secret={}&v={}&ll={},{}&radius={}&limit={}&categoryID={}'.format(\n",
    "            CLIENT_ID, \n",
    "            CLIENT_SECRET, \n",
    "            VERSION, \n",
    "            lat, \n",
    "            lng, \n",
    "            radius, \n",
    "            LIMIT,\n",
    "            categoryID)\n",
    "            \n",
    "        # make the GET request\n",
    "        results = requests.get(url).json()[\"response\"]['groups'][0]['items']\n",
    "        \n",
    "        # return only relevant information for each nearby venue\n",
    "        venues_list.append([(\n",
    "            name, \n",
    "            lat, \n",
    "            lng, \n",
    "            v['venue']['name'], \n",
    "            v['venue']['location']['lat'], \n",
    "            v['venue']['location']['lng'],  \n",
    "            v['venue']['categories'][0]['name']) for v in results])\n",
    "\n",
    "    nearby_venues = pd.DataFrame([item for venue_list in venues_list for item in venue_list])\n",
    "    nearby_venues.columns = ['Neighborhood', \n",
    "                  'Neighborhood Latitude', \n",
    "                  'Neighborhood Longitude', \n",
    "                  'Venue', \n",
    "                  'Venue Latitude', \n",
    "                  'Venue Longitude', \n",
    "                  'Venue Category']\n",
    "    \n",
    "    return(nearby_venues)"
   ]
  },
  {
   "cell_type": "code",
   "execution_count": 17,
   "metadata": {},
   "outputs": [
    {
     "name": "stdout",
     "output_type": "stream",
     "text": [
      "Verkiai\n",
      "Antakalnis\n",
      "Pašilaičiai\n",
      "Fabijoniškės\n",
      "Pilaitė\n",
      "Justiniškės\n",
      "Viršuliškės\n",
      "Šeškinė\n",
      "Šnipiškės\n",
      "Žirmūnai\n",
      "Karoliniškės\n",
      "Žvėrynas\n",
      "Grigiškės\n",
      "Lazdynai\n",
      "Vilkpėdė\n",
      "Naujamiestis, Vilnius\n",
      "Vilnius Old Town\n",
      "Naujoji Vilnia\n",
      "Paneriai\n",
      "Naujininkai\n",
      "Rasos (district)\n",
      "Found all venues\n"
     ]
    }
   ],
   "source": [
    "vilnius_venues = getNearbyVenues(names=df['Neighborhood'],\n",
    "                                   latitudes=df['Latitude'],\n",
    "                                   longitudes=df['Longitude']\n",
    "                                  )\n",
    "print('Found all venues')"
   ]
  },
  {
   "cell_type": "code",
   "execution_count": 18,
   "metadata": {},
   "outputs": [
    {
     "name": "stdout",
     "output_type": "stream",
     "text": [
      "(987, 7)\n"
     ]
    },
    {
     "data": {
      "text/html": [
       "<div>\n",
       "<style scoped>\n",
       "    .dataframe tbody tr th:only-of-type {\n",
       "        vertical-align: middle;\n",
       "    }\n",
       "\n",
       "    .dataframe tbody tr th {\n",
       "        vertical-align: top;\n",
       "    }\n",
       "\n",
       "    .dataframe thead th {\n",
       "        text-align: right;\n",
       "    }\n",
       "</style>\n",
       "<table border=\"1\" class=\"dataframe\">\n",
       "  <thead>\n",
       "    <tr style=\"text-align: right;\">\n",
       "      <th></th>\n",
       "      <th>Neighborhood</th>\n",
       "      <th>Neighborhood Latitude</th>\n",
       "      <th>Neighborhood Longitude</th>\n",
       "      <th>Venue</th>\n",
       "      <th>Venue Latitude</th>\n",
       "      <th>Venue Longitude</th>\n",
       "      <th>Venue Category</th>\n",
       "    </tr>\n",
       "  </thead>\n",
       "  <tbody>\n",
       "    <tr>\n",
       "      <th>0</th>\n",
       "      <td>Verkiai</td>\n",
       "      <td>54.750657</td>\n",
       "      <td>25.294767</td>\n",
       "      <td>Verkių regioninis parkas | Verkiai Regional park</td>\n",
       "      <td>54.751579</td>\n",
       "      <td>25.293919</td>\n",
       "      <td>Park</td>\n",
       "    </tr>\n",
       "    <tr>\n",
       "      <th>1</th>\n",
       "      <td>Verkiai</td>\n",
       "      <td>54.750657</td>\n",
       "      <td>25.294767</td>\n",
       "      <td>Verkių dvaro rūmai</td>\n",
       "      <td>54.748114</td>\n",
       "      <td>25.292627</td>\n",
       "      <td>History Museum</td>\n",
       "    </tr>\n",
       "    <tr>\n",
       "      <th>2</th>\n",
       "      <td>Verkiai</td>\n",
       "      <td>54.750657</td>\n",
       "      <td>25.294767</td>\n",
       "      <td>Rupert</td>\n",
       "      <td>54.742793</td>\n",
       "      <td>25.294918</td>\n",
       "      <td>Art Gallery</td>\n",
       "    </tr>\n",
       "    <tr>\n",
       "      <th>3</th>\n",
       "      <td>Verkiai</td>\n",
       "      <td>54.750657</td>\n",
       "      <td>25.294767</td>\n",
       "      <td>Valakampių II-asis paplūdimys</td>\n",
       "      <td>54.742791</td>\n",
       "      <td>25.294941</td>\n",
       "      <td>Beach</td>\n",
       "    </tr>\n",
       "    <tr>\n",
       "      <th>4</th>\n",
       "      <td>Verkiai</td>\n",
       "      <td>54.750657</td>\n",
       "      <td>25.294767</td>\n",
       "      <td>Verkių vandens malūnas</td>\n",
       "      <td>54.745610</td>\n",
       "      <td>25.290905</td>\n",
       "      <td>Eastern European Restaurant</td>\n",
       "    </tr>\n",
       "  </tbody>\n",
       "</table>\n",
       "</div>"
      ],
      "text/plain": [
       "  Neighborhood  Neighborhood Latitude  Neighborhood Longitude  \\\n",
       "0      Verkiai              54.750657               25.294767   \n",
       "1      Verkiai              54.750657               25.294767   \n",
       "2      Verkiai              54.750657               25.294767   \n",
       "3      Verkiai              54.750657               25.294767   \n",
       "4      Verkiai              54.750657               25.294767   \n",
       "\n",
       "                                              Venue  Venue Latitude  \\\n",
       "0  Verkių regioninis parkas | Verkiai Regional park       54.751579   \n",
       "1                                Verkių dvaro rūmai       54.748114   \n",
       "2                                            Rupert       54.742793   \n",
       "3                     Valakampių II-asis paplūdimys       54.742791   \n",
       "4                            Verkių vandens malūnas       54.745610   \n",
       "\n",
       "   Venue Longitude               Venue Category  \n",
       "0        25.293919                         Park  \n",
       "1        25.292627               History Museum  \n",
       "2        25.294918                  Art Gallery  \n",
       "3        25.294941                        Beach  \n",
       "4        25.290905  Eastern European Restaurant  "
      ]
     },
     "execution_count": 18,
     "metadata": {},
     "output_type": "execute_result"
    }
   ],
   "source": [
    "print(vilnius_venues.shape)\n",
    "vilnius_venues.head()"
   ]
  },
  {
   "cell_type": "code",
   "execution_count": 19,
   "metadata": {},
   "outputs": [
    {
     "data": {
      "text/html": [
       "<div>\n",
       "<style scoped>\n",
       "    .dataframe tbody tr th:only-of-type {\n",
       "        vertical-align: middle;\n",
       "    }\n",
       "\n",
       "    .dataframe tbody tr th {\n",
       "        vertical-align: top;\n",
       "    }\n",
       "\n",
       "    .dataframe thead th {\n",
       "        text-align: right;\n",
       "    }\n",
       "</style>\n",
       "<table border=\"1\" class=\"dataframe\">\n",
       "  <thead>\n",
       "    <tr style=\"text-align: right;\">\n",
       "      <th></th>\n",
       "      <th>Neighborhood</th>\n",
       "      <th>Neighborhood Latitude</th>\n",
       "      <th>Neighborhood Longitude</th>\n",
       "      <th>Venue</th>\n",
       "      <th>Venue Latitude</th>\n",
       "      <th>Venue Longitude</th>\n",
       "      <th>Venue Category</th>\n",
       "    </tr>\n",
       "  </thead>\n",
       "  <tbody>\n",
       "    <tr>\n",
       "      <th>10</th>\n",
       "      <td>Antakalnis</td>\n",
       "      <td>54.705639</td>\n",
       "      <td>25.314538</td>\n",
       "      <td>Active Gym</td>\n",
       "      <td>54.703708</td>\n",
       "      <td>25.310606</td>\n",
       "      <td>Gym / Fitness Center</td>\n",
       "    </tr>\n",
       "    <tr>\n",
       "      <th>11</th>\n",
       "      <td>Antakalnis</td>\n",
       "      <td>54.705639</td>\n",
       "      <td>25.314538</td>\n",
       "      <td>G7 Sporto klubas</td>\n",
       "      <td>54.701748</td>\n",
       "      <td>25.315078</td>\n",
       "      <td>Gym / Fitness Center</td>\n",
       "    </tr>\n",
       "    <tr>\n",
       "      <th>15</th>\n",
       "      <td>Antakalnis</td>\n",
       "      <td>54.705639</td>\n",
       "      <td>25.314538</td>\n",
       "      <td>Brasa Crossfit</td>\n",
       "      <td>54.716610</td>\n",
       "      <td>25.304572</td>\n",
       "      <td>Gymnastics Gym</td>\n",
       "    </tr>\n",
       "    <tr>\n",
       "      <th>18</th>\n",
       "      <td>Antakalnis</td>\n",
       "      <td>54.705639</td>\n",
       "      <td>25.314538</td>\n",
       "      <td>Lemon Gym Antakalnis</td>\n",
       "      <td>54.703726</td>\n",
       "      <td>25.310632</td>\n",
       "      <td>Gym</td>\n",
       "    </tr>\n",
       "    <tr>\n",
       "      <th>84</th>\n",
       "      <td>Pašilaičiai</td>\n",
       "      <td>54.728487</td>\n",
       "      <td>25.228916</td>\n",
       "      <td>SuperGym</td>\n",
       "      <td>54.724099</td>\n",
       "      <td>25.233116</td>\n",
       "      <td>Gym / Fitness Center</td>\n",
       "    </tr>\n",
       "  </tbody>\n",
       "</table>\n",
       "</div>"
      ],
      "text/plain": [
       "   Neighborhood  Neighborhood Latitude  Neighborhood Longitude  \\\n",
       "10   Antakalnis              54.705639               25.314538   \n",
       "11   Antakalnis              54.705639               25.314538   \n",
       "15   Antakalnis              54.705639               25.314538   \n",
       "18   Antakalnis              54.705639               25.314538   \n",
       "84  Pašilaičiai              54.728487               25.228916   \n",
       "\n",
       "                   Venue  Venue Latitude  Venue Longitude  \\\n",
       "10            Active Gym       54.703708        25.310606   \n",
       "11      G7 Sporto klubas       54.701748        25.315078   \n",
       "15        Brasa Crossfit       54.716610        25.304572   \n",
       "18  Lemon Gym Antakalnis       54.703726        25.310632   \n",
       "84              SuperGym       54.724099        25.233116   \n",
       "\n",
       "          Venue Category  \n",
       "10  Gym / Fitness Center  \n",
       "11  Gym / Fitness Center  \n",
       "15        Gymnastics Gym  \n",
       "18                   Gym  \n",
       "84  Gym / Fitness Center  "
      ]
     },
     "execution_count": 19,
     "metadata": {},
     "output_type": "execute_result"
    }
   ],
   "source": [
    "gym_venues = vilnius_venues[vilnius_venues['Venue Category'].str.contains(\"Gym\" or \"Fitness\")]\n",
    "gym_venues.head()"
   ]
  },
  {
   "cell_type": "markdown",
   "metadata": {},
   "source": [
    "As distance between neighborhoods is smaller that radius used in data collection, there definetly will be dublicates. Let's remove them."
   ]
  },
  {
   "cell_type": "code",
   "execution_count": 20,
   "metadata": {},
   "outputs": [
    {
     "name": "stderr",
     "output_type": "stream",
     "text": [
      "<ipython-input-20-ec838185b0f1>:7: SettingWithCopyWarning: \n",
      "A value is trying to be set on a copy of a slice from a DataFrame.\n",
      "Try using .loc[row_indexer,col_indexer] = value instead\n",
      "\n",
      "See the caveats in the documentation: https://pandas.pydata.org/pandas-docs/stable/user_guide/indexing.html#returning-a-view-versus-a-copy\n",
      "  gym_venues['Distance'] = distance\n"
     ]
    }
   ],
   "source": [
    "distance = []\n",
    "for n in range(0, gym_venues.shape[0]):\n",
    "    loc1 = (gym_venues.iloc[n]['Neighborhood Latitude'], gym_venues.iloc[n]['Neighborhood Longitude'])\n",
    "    loc2 = (gym_venues.iloc[n]['Venue Latitude'],gym_venues.iloc[n]['Venue Longitude'])\n",
    "    dist = hs.haversine(loc1, loc2)\n",
    "    distance.append(dist)\n",
    "gym_venues['Distance'] = distance"
   ]
  },
  {
   "cell_type": "code",
   "execution_count": 21,
   "metadata": {},
   "outputs": [],
   "source": [
    "df_dub = pd.concat(g for _, g in gym_venues.groupby(\"Venue Latitude\") if len(g) > 1)"
   ]
  },
  {
   "cell_type": "code",
   "execution_count": 22,
   "metadata": {},
   "outputs": [
    {
     "data": {
      "text/plain": [
       "(36, 8)"
      ]
     },
     "execution_count": 22,
     "metadata": {},
     "output_type": "execute_result"
    }
   ],
   "source": [
    "df_dub.shape"
   ]
  },
  {
   "cell_type": "code",
   "execution_count": 23,
   "metadata": {},
   "outputs": [],
   "source": [
    "df_dubl_1 = df_dub.iloc[::2, :]\n",
    "df_dubl_2 = df_dub.iloc[1::2, :]\n",
    "dub_delete = pd.DataFrame()"
   ]
  },
  {
   "cell_type": "code",
   "execution_count": 24,
   "metadata": {},
   "outputs": [],
   "source": [
    "for n in range(0, df_dubl_1.shape[0]):\n",
    "    if df_dubl_1['Distance'].values[n] < df_dubl_2['Distance'].values[n]:\n",
    "        row = df_dubl_2.iloc[n]\n",
    "        dub_delete = dub_delete.append(row, ignore_index=True)\n",
    "    elif df_dubl_2['Distance'].values[n] < df_dubl_1['Distance'].values[n]:\n",
    "        row = df_dubl_1.iloc[n]\n",
    "        dub_delete = dub_delete.append(row, ignore_index=True)"
   ]
  },
  {
   "cell_type": "code",
   "execution_count": 25,
   "metadata": {},
   "outputs": [],
   "source": [
    "gym_venues = pd.concat([gym_venues,dub_delete]).drop_duplicates(keep=False)\n",
    "gym_venues = gym_venues.dropna()"
   ]
  },
  {
   "cell_type": "code",
   "execution_count": 26,
   "metadata": {},
   "outputs": [
    {
     "data": {
      "text/html": [
       "<div>\n",
       "<style scoped>\n",
       "    .dataframe tbody tr th:only-of-type {\n",
       "        vertical-align: middle;\n",
       "    }\n",
       "\n",
       "    .dataframe tbody tr th {\n",
       "        vertical-align: top;\n",
       "    }\n",
       "\n",
       "    .dataframe thead th {\n",
       "        text-align: right;\n",
       "    }\n",
       "</style>\n",
       "<table border=\"1\" class=\"dataframe\">\n",
       "  <thead>\n",
       "    <tr style=\"text-align: right;\">\n",
       "      <th></th>\n",
       "      <th>Neighborhood</th>\n",
       "      <th>Neighborhood Latitude</th>\n",
       "      <th>Neighborhood Longitude</th>\n",
       "      <th>Venue</th>\n",
       "      <th>Venue Latitude</th>\n",
       "      <th>Venue Longitude</th>\n",
       "      <th>Venue Category</th>\n",
       "    </tr>\n",
       "  </thead>\n",
       "  <tbody>\n",
       "    <tr>\n",
       "      <th>10</th>\n",
       "      <td>Antakalnis</td>\n",
       "      <td>54.705639</td>\n",
       "      <td>25.314538</td>\n",
       "      <td>Active Gym</td>\n",
       "      <td>54.703708</td>\n",
       "      <td>25.310606</td>\n",
       "      <td>Gym / Fitness Center</td>\n",
       "    </tr>\n",
       "    <tr>\n",
       "      <th>11</th>\n",
       "      <td>Antakalnis</td>\n",
       "      <td>54.705639</td>\n",
       "      <td>25.314538</td>\n",
       "      <td>G7 Sporto klubas</td>\n",
       "      <td>54.701748</td>\n",
       "      <td>25.315078</td>\n",
       "      <td>Gym / Fitness Center</td>\n",
       "    </tr>\n",
       "    <tr>\n",
       "      <th>18</th>\n",
       "      <td>Antakalnis</td>\n",
       "      <td>54.705639</td>\n",
       "      <td>25.314538</td>\n",
       "      <td>Lemon Gym Antakalnis</td>\n",
       "      <td>54.703726</td>\n",
       "      <td>25.310632</td>\n",
       "      <td>Gym</td>\n",
       "    </tr>\n",
       "    <tr>\n",
       "      <th>84</th>\n",
       "      <td>Pašilaičiai</td>\n",
       "      <td>54.728487</td>\n",
       "      <td>25.228916</td>\n",
       "      <td>SuperGym</td>\n",
       "      <td>54.724099</td>\n",
       "      <td>25.233116</td>\n",
       "      <td>Gym / Fitness Center</td>\n",
       "    </tr>\n",
       "    <tr>\n",
       "      <th>101</th>\n",
       "      <td>Pašilaičiai</td>\n",
       "      <td>54.728487</td>\n",
       "      <td>25.228916</td>\n",
       "      <td>Lemon Gym</td>\n",
       "      <td>54.741571</td>\n",
       "      <td>25.223449</td>\n",
       "      <td>Gym / Fitness Center</td>\n",
       "    </tr>\n",
       "  </tbody>\n",
       "</table>\n",
       "</div>"
      ],
      "text/plain": [
       "    Neighborhood  Neighborhood Latitude  Neighborhood Longitude  \\\n",
       "10    Antakalnis              54.705639               25.314538   \n",
       "11    Antakalnis              54.705639               25.314538   \n",
       "18    Antakalnis              54.705639               25.314538   \n",
       "84   Pašilaičiai              54.728487               25.228916   \n",
       "101  Pašilaičiai              54.728487               25.228916   \n",
       "\n",
       "                    Venue  Venue Latitude  Venue Longitude  \\\n",
       "10             Active Gym       54.703708        25.310606   \n",
       "11       G7 Sporto klubas       54.701748        25.315078   \n",
       "18   Lemon Gym Antakalnis       54.703726        25.310632   \n",
       "84               SuperGym       54.724099        25.233116   \n",
       "101             Lemon Gym       54.741571        25.223449   \n",
       "\n",
       "           Venue Category  \n",
       "10   Gym / Fitness Center  \n",
       "11   Gym / Fitness Center  \n",
       "18                    Gym  \n",
       "84   Gym / Fitness Center  \n",
       "101  Gym / Fitness Center  "
      ]
     },
     "execution_count": 26,
     "metadata": {},
     "output_type": "execute_result"
    }
   ],
   "source": [
    "gym_venues = gym_venues.drop(columns=['Distance'])\n",
    "gym_venues.head()"
   ]
  },
  {
   "cell_type": "markdown",
   "metadata": {},
   "source": [
    "So now we have all the gyms in each neighborhood. \n",
    "This concludes the data gathering phase - we're now ready to use this data for analysis to produce the report."
   ]
  },
  {
   "cell_type": "markdown",
   "metadata": {},
   "source": [
    "## Methodology <a name=\"methodology\"></a>"
   ]
  },
  {
   "cell_type": "markdown",
   "metadata": {},
   "source": [
    "In first step we have collected the required data: location and type (category) of every gym in each neighborhood.\n",
    "\n",
    "Second step in our analysis will be calculation and exploration of number of gyms across different neighborhoods.\n",
    "\n",
    "In third and final step we will focus clusters of locations. We want locations where numbers of gyms is least. We will present map of all clusters and identify most promising neigborhoods."
   ]
  },
  {
   "cell_type": "markdown",
   "metadata": {},
   "source": [
    "## Analysis <a name=\"analysis\"></a>"
   ]
  },
  {
   "cell_type": "markdown",
   "metadata": {},
   "source": [
    "First let's count the number of gyms in every area."
   ]
  },
  {
   "cell_type": "code",
   "execution_count": 27,
   "metadata": {},
   "outputs": [
    {
     "data": {
      "text/html": [
       "<div>\n",
       "<style scoped>\n",
       "    .dataframe tbody tr th:only-of-type {\n",
       "        vertical-align: middle;\n",
       "    }\n",
       "\n",
       "    .dataframe tbody tr th {\n",
       "        vertical-align: top;\n",
       "    }\n",
       "\n",
       "    .dataframe thead th {\n",
       "        text-align: right;\n",
       "    }\n",
       "</style>\n",
       "<table border=\"1\" class=\"dataframe\">\n",
       "  <thead>\n",
       "    <tr style=\"text-align: right;\">\n",
       "      <th></th>\n",
       "      <th>Neighborhood</th>\n",
       "      <th>Latitude</th>\n",
       "      <th>Longitude</th>\n",
       "      <th>Neighborhood Latitude</th>\n",
       "      <th>Neighborhood Longitude</th>\n",
       "      <th>Venue</th>\n",
       "      <th>Venue Latitude</th>\n",
       "      <th>Venue Longitude</th>\n",
       "      <th>Venue Category</th>\n",
       "    </tr>\n",
       "  </thead>\n",
       "  <tbody>\n",
       "    <tr>\n",
       "      <th>0</th>\n",
       "      <td>Verkiai</td>\n",
       "      <td>54.750657</td>\n",
       "      <td>25.294767</td>\n",
       "      <td>NaN</td>\n",
       "      <td>NaN</td>\n",
       "      <td>NaN</td>\n",
       "      <td>NaN</td>\n",
       "      <td>NaN</td>\n",
       "      <td>NaN</td>\n",
       "    </tr>\n",
       "    <tr>\n",
       "      <th>1</th>\n",
       "      <td>Antakalnis</td>\n",
       "      <td>54.705639</td>\n",
       "      <td>25.314538</td>\n",
       "      <td>54.705639</td>\n",
       "      <td>25.314538</td>\n",
       "      <td>Active Gym</td>\n",
       "      <td>54.703708</td>\n",
       "      <td>25.310606</td>\n",
       "      <td>Gym / Fitness Center</td>\n",
       "    </tr>\n",
       "    <tr>\n",
       "      <th>1</th>\n",
       "      <td>Antakalnis</td>\n",
       "      <td>54.705639</td>\n",
       "      <td>25.314538</td>\n",
       "      <td>54.705639</td>\n",
       "      <td>25.314538</td>\n",
       "      <td>G7 Sporto klubas</td>\n",
       "      <td>54.701748</td>\n",
       "      <td>25.315078</td>\n",
       "      <td>Gym / Fitness Center</td>\n",
       "    </tr>\n",
       "    <tr>\n",
       "      <th>1</th>\n",
       "      <td>Antakalnis</td>\n",
       "      <td>54.705639</td>\n",
       "      <td>25.314538</td>\n",
       "      <td>54.705639</td>\n",
       "      <td>25.314538</td>\n",
       "      <td>Lemon Gym Antakalnis</td>\n",
       "      <td>54.703726</td>\n",
       "      <td>25.310632</td>\n",
       "      <td>Gym</td>\n",
       "    </tr>\n",
       "    <tr>\n",
       "      <th>2</th>\n",
       "      <td>Pašilaičiai</td>\n",
       "      <td>54.728487</td>\n",
       "      <td>25.228916</td>\n",
       "      <td>54.728487</td>\n",
       "      <td>25.228916</td>\n",
       "      <td>SuperGym</td>\n",
       "      <td>54.724099</td>\n",
       "      <td>25.233116</td>\n",
       "      <td>Gym / Fitness Center</td>\n",
       "    </tr>\n",
       "  </tbody>\n",
       "</table>\n",
       "</div>"
      ],
      "text/plain": [
       "  Neighborhood   Latitude  Longitude  Neighborhood Latitude  \\\n",
       "0      Verkiai  54.750657  25.294767                    NaN   \n",
       "1   Antakalnis  54.705639  25.314538              54.705639   \n",
       "1   Antakalnis  54.705639  25.314538              54.705639   \n",
       "1   Antakalnis  54.705639  25.314538              54.705639   \n",
       "2  Pašilaičiai  54.728487  25.228916              54.728487   \n",
       "\n",
       "   Neighborhood Longitude                 Venue  Venue Latitude  \\\n",
       "0                     NaN                   NaN             NaN   \n",
       "1               25.314538            Active Gym       54.703708   \n",
       "1               25.314538      G7 Sporto klubas       54.701748   \n",
       "1               25.314538  Lemon Gym Antakalnis       54.703726   \n",
       "2               25.228916              SuperGym       54.724099   \n",
       "\n",
       "   Venue Longitude        Venue Category  \n",
       "0              NaN                   NaN  \n",
       "1        25.310606  Gym / Fitness Center  \n",
       "1        25.315078  Gym / Fitness Center  \n",
       "1        25.310632                   Gym  \n",
       "2        25.233116  Gym / Fitness Center  "
      ]
     },
     "execution_count": 27,
     "metadata": {},
     "output_type": "execute_result"
    }
   ],
   "source": [
    "gyms_merged = df\n",
    "gyms_merged = gyms_merged.join(gym_venues.set_index('Neighborhood'), on='Neighborhood')\n",
    "gyms_merged.head()"
   ]
  },
  {
   "cell_type": "code",
   "execution_count": 28,
   "metadata": {},
   "outputs": [],
   "source": [
    "gym_venues_gr = gyms_merged.groupby('Neighborhood').count().reset_index()"
   ]
  },
  {
   "cell_type": "code",
   "execution_count": 29,
   "metadata": {},
   "outputs": [
    {
     "data": {
      "image/png": "[encoded data removed]",
      "text/plain": [
       "<Figure size 432x288 with 1 Axes>"
      ]
     },
     "metadata": {
      "needs_background": "light"
     },
     "output_type": "display_data"
    }
   ],
   "source": [
    "gyms_in_neigh = sns.barplot(x=\"Neighborhood\", y=\"Venue\", data=gym_venues_gr)\n",
    "gyms_in_neigh.set(xlabel='Neighborhood', ylabel='Number of gyms')\n",
    "for item in gyms_in_neigh.get_xticklabels():\n",
    "    item.set_rotation(90)"
   ]
  },
  {
   "cell_type": "markdown",
   "metadata": {},
   "source": [
    "As we can see, there are some areas where there aren't any gyms.\n",
    "Area without gyms:\n",
    "* Grigiškes\n",
    "* Naujoji Vilnia\n",
    "* Paneriai\n",
    "* Rasos\n",
    "* Verkiai"
   ]
  },
  {
   "cell_type": "markdown",
   "metadata": {},
   "source": [
    "There are two area with most gyms:\n",
    "* Naujamiestis\n",
    "* Šnipiškės"
   ]
  },
  {
   "cell_type": "markdown",
   "metadata": {},
   "source": [
    "Areas with least number of gyms:\n",
    "* Justiniškes\n",
    "* Lazdynai\n",
    "* Vilkpede\n",
    "* Seskine\n",
    "* Zverynas"
   ]
  },
  {
   "cell_type": "markdown",
   "metadata": {},
   "source": [
    "For further analysis let's drop neighborhoods without gyms"
   ]
  },
  {
   "cell_type": "code",
   "execution_count": 30,
   "metadata": {},
   "outputs": [],
   "source": [
    "gyms_without_nan = gyms_merged.dropna()"
   ]
  },
  {
   "cell_type": "markdown",
   "metadata": {},
   "source": [
    "Now let's cluster remaining areas and let's see what areas have least gyms"
   ]
  },
  {
   "cell_type": "code",
   "execution_count": 31,
   "metadata": {},
   "outputs": [],
   "source": [
    "lat = gyms_without_nan['Venue Latitude'].to_numpy()\n",
    "lng = gyms_without_nan['Venue Longitude'].to_numpy()\n",
    "features = np.column_stack((lat, lng))"
   ]
  },
  {
   "cell_type": "code",
   "execution_count": 32,
   "metadata": {},
   "outputs": [],
   "source": [
    "scaler = StandardScaler()\n",
    "scaled_features = scaler.fit_transform(features)"
   ]
  },
  {
   "cell_type": "code",
   "execution_count": 33,
   "metadata": {},
   "outputs": [
    {
     "data": {
      "text/plain": [
       "KMeans(init='random', n_clusters=5, random_state=42)"
      ]
     },
     "execution_count": 33,
     "metadata": {},
     "output_type": "execute_result"
    }
   ],
   "source": [
    "kmeans = KMeans(init=\"random\",n_clusters=5, n_init=10,max_iter=300,random_state=42)\n",
    "kmeans.fit(scaled_features)"
   ]
  },
  {
   "cell_type": "markdown",
   "metadata": {},
   "source": [
    "Let's test clustering and find out what is proper amount of clusters is needed for analysis. We will use elbow method to determine number of clusters"
   ]
  },
  {
   "cell_type": "code",
   "execution_count": 34,
   "metadata": {},
   "outputs": [],
   "source": [
    "kmeans_kwargs = {\"init\": \"random\",\"n_init\": 10,\"max_iter\": 300,\"random_state\": 42,}\n",
    "sse = []\n",
    "for k in range(1, 20):\n",
    "    kmeans = KMeans(n_clusters=k, **kmeans_kwargs)\n",
    "    kmeans.fit(scaled_features)\n",
    "    sse.append(kmeans.inertia_)"
   ]
  },
  {
   "cell_type": "code",
   "execution_count": 35,
   "metadata": {},
   "outputs": [
    {
     "data": {
      "image/png": "[encoded data removed]",
      "text/plain": [
       "<Figure size 432x288 with 1 Axes>"
      ]
     },
     "metadata": {},
     "output_type": "display_data"
    }
   ],
   "source": [
    "plt.style.use(\"fivethirtyeight\")\n",
    "plt.plot(range(1, 20), sse)\n",
    "plt.xticks(range(1, 20))\n",
    "plt.xlabel(\"Number of Clusters\")\n",
    "plt.ylabel(\"SSE\")\n",
    "plt.show()"
   ]
  },
  {
   "cell_type": "code",
   "execution_count": 36,
   "metadata": {},
   "outputs": [
    {
     "data": {
      "text/plain": [
       "5"
      ]
     },
     "execution_count": 36,
     "metadata": {},
     "output_type": "execute_result"
    }
   ],
   "source": [
    "kl = KneeLocator(range(1, 20), sse, curve=\"convex\", direction=\"decreasing\")\n",
    "kl.elbow"
   ]
  },
  {
   "cell_type": "markdown",
   "metadata": {},
   "source": [
    "As result shows - we will use 5 clusters"
   ]
  },
  {
   "cell_type": "markdown",
   "metadata": {},
   "source": [
    "Creating clusters"
   ]
  },
  {
   "cell_type": "code",
   "execution_count": 37,
   "metadata": {},
   "outputs": [
    {
     "data": {
      "text/plain": [
       "array([2, 2, 2, 0, 0, 0, 0, 0, 3, 3, 3, 3, 3, 3, 1, 1, 1, 1, 1, 2, 2, 3,\n",
       "       3, 1, 4, 4, 4, 4, 4, 1, 4, 4, 4, 4])"
      ]
     },
     "execution_count": 37,
     "metadata": {},
     "output_type": "execute_result"
    }
   ],
   "source": [
    "kmeans = KMeans(init=\"random\",n_clusters=5, n_init=10,max_iter=300,random_state=42)\n",
    "kmeans.fit(scaled_features)\n",
    "kmeans.inertia_\n",
    "kmeans.cluster_centers_\n",
    "kmeans.n_iter_\n",
    "kmeans.labels_"
   ]
  },
  {
   "cell_type": "code",
   "execution_count": 38,
   "metadata": {},
   "outputs": [],
   "source": [
    "gyms_without_nan.insert(0, 'Cluster Labels', kmeans.labels_)"
   ]
  },
  {
   "cell_type": "code",
   "execution_count": 39,
   "metadata": {},
   "outputs": [],
   "source": [
    "address = 'Vilnius'\n",
    "geolocator = Nominatim(user_agent=\"vilnius_explorer\")\n",
    "location = geolocator.geocode(address)\n",
    "latitude = location.latitude\n",
    "longitude = location.longitude"
   ]
  },
  {
   "cell_type": "code",
   "execution_count": 40,
   "metadata": {},
   "outputs": [],
   "source": [
    "map_clusters = folium.Map(location=[latitude, longitude], zoom_start=12)\n",
    "kclusters = 5\n",
    "# set color scheme for the clusters\n",
    "x = np.arange(kclusters)\n",
    "ys = [i + x + (i*x)**2 for i in range(kclusters)]\n",
    "colors_array = cm.rainbow(np.linspace(0, 1, len(ys)))\n",
    "rainbow = [colors.rgb2hex(i) for i in colors_array]"
   ]
  },
  {
   "cell_type": "code",
   "execution_count": 41,
   "metadata": {},
   "outputs": [],
   "source": [
    "markers_colors = []\n",
    "for lat, lon, poi, cluster in zip(gyms_without_nan['Venue Latitude'], gyms_without_nan['Venue Longitude'],gyms_without_nan['Venue'], gyms_without_nan['Cluster Labels']):\n",
    "    label = folium.Popup(str(poi) + ' Cluster ' + str(cluster), parse_html=True)\n",
    "    folium.CircleMarker(\n",
    "        [lat, lon],\n",
    "        radius=5,\n",
    "        popup=label,\n",
    "        color=rainbow[cluster-1],\n",
    "        fill=True,\n",
    "        fill_color=rainbow[cluster-1],\n",
    "        fill_opacity=0.7).add_to(map_clusters)\n",
    "       "
   ]
  },
  {
   "cell_type": "code",
   "execution_count": 42,
   "metadata": {},
   "outputs": [
    {
     "data": {
      "text/html": [
       "<div style=\"width:100%;\"><div style=\"position:relative;width:100%;height:0;padding-bottom:60%;\"><span style=\"color:#565656\">Make this Notebook Trusted to load map: File -> Trust Notebook</span><iframe src=\"about:blank\" style=\"position:absolute;width:100%;height:100%;left:0;top:0;border:none !important;\" data-html=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 onload=\"this.contentDocument.open();this.contentDocument.write(atob(this.getAttribute('data-html')));this.contentDocument.close();\" allowfullscreen webkitallowfullscreen mozallowfullscreen></iframe></div></div>"
      ],
      "text/plain": [
       "<folium.folium.Map at 0x1e11098e700>"
      ]
     },
     "execution_count": 42,
     "metadata": {},
     "output_type": "execute_result"
    }
   ],
   "source": [
    "map_clusters"
   ]
  },
  {
   "cell_type": "markdown",
   "metadata": {},
   "source": [
    "Let's see how those clusters look on barchart"
   ]
  },
  {
   "cell_type": "code",
   "execution_count": 43,
   "metadata": {},
   "outputs": [],
   "source": [
    "gym_cluster_gr = gyms_without_nan.groupby('Cluster Labels').count().reset_index()"
   ]
  },
  {
   "cell_type": "code",
   "execution_count": 44,
   "metadata": {},
   "outputs": [
    {
     "data": {
      "text/plain": [
       "[Text(0.5, 0, 'Number of cluster'), Text(0, 0.5, 'Number of gyms')]"
      ]
     },
     "execution_count": 44,
     "metadata": {},
     "output_type": "execute_result"
    },
    {
     "data": {
      "image/png": "[encoded data removed]",
      "text/plain": [
       "<Figure size 432x288 with 1 Axes>"
      ]
     },
     "metadata": {},
     "output_type": "display_data"
    }
   ],
   "source": [
    "gym_cluster_gr_bar = sns.barplot(x=\"Cluster Labels\", y=\"Venue\", data=gym_cluster_gr)\n",
    "gym_cluster_gr_bar.set(xlabel='Number of cluster', ylabel='Number of gyms')"
   ]
  },
  {
   "cell_type": "markdown",
   "metadata": {},
   "source": [
    "As we can see cluster 0 and cluster 2 have least gyms. Let's explore them little bit more"
   ]
  },
  {
   "cell_type": "markdown",
   "metadata": {},
   "source": [
    "#### Cluster 0"
   ]
  },
  {
   "cell_type": "code",
   "execution_count": 45,
   "metadata": {},
   "outputs": [],
   "source": [
    "gyms_cl_0 = gyms_without_nan[gyms_without_nan['Cluster Labels'].astype('str').str.contains('0')]\n",
    "gyms_cl_0 = gyms_cl_0.astype({'Cluster Labels': 'int32'})"
   ]
  },
  {
   "cell_type": "code",
   "execution_count": 46,
   "metadata": {},
   "outputs": [
    {
     "data": {
      "image/png": "[encoded data removed]",
      "text/plain": [
       "<Figure size 432x288 with 1 Axes>"
      ]
     },
     "metadata": {},
     "output_type": "display_data"
    }
   ],
   "source": [
    "gyms_cl_0_grouped = gyms_cl_0.groupby('Neighborhood').count().reset_index()\n",
    "gyms_cl_0_grouped_plot = sns.barplot(x=\"Neighborhood\", y=\"Venue\", data=gyms_cl_0_grouped)\n",
    "gyms_cl_0_grouped_plot.set(xlabel='Neighborhood', ylabel='Number of gyms')\n",
    "for item in gyms_cl_0_grouped_plot.get_xticklabels():\n",
    "    item.set_rotation(90)"
   ]
  },
  {
   "cell_type": "markdown",
   "metadata": {},
   "source": [
    "In this cluster neigborhood Fabijoniskes have least gyms, this area might be potencial for new gym."
   ]
  },
  {
   "cell_type": "markdown",
   "metadata": {},
   "source": [
    "#### Cluster 2"
   ]
  },
  {
   "cell_type": "code",
   "execution_count": 47,
   "metadata": {},
   "outputs": [],
   "source": [
    "gyms_cl_2 = gyms_without_nan[gyms_without_nan['Cluster Labels'].astype('str').str.contains('2')]\n",
    "gyms_cl_2 = gyms_cl_2.astype({'Cluster Labels': 'int32'})"
   ]
  },
  {
   "cell_type": "code",
   "execution_count": 48,
   "metadata": {},
   "outputs": [
    {
     "data": {
      "image/png": "[encoded data removed]",
      "text/plain": [
       "<Figure size 432x288 with 1 Axes>"
      ]
     },
     "metadata": {},
     "output_type": "display_data"
    }
   ],
   "source": [
    "gyms_cl_2_grouped = gyms_cl_2.groupby('Neighborhood').count().reset_index()\n",
    "gyms_cl_2_grouped_plot = sns.barplot(x=\"Neighborhood\", y=\"Venue\", data=gyms_cl_2_grouped)\n",
    "gyms_cl_2_grouped_plot.set(xlabel='Neighborhood', ylabel='Number of gyms')\n",
    "for item in gyms_cl_2_grouped_plot.get_xticklabels():\n",
    "    item.set_rotation(90)"
   ]
  },
  {
   "cell_type": "markdown",
   "metadata": {},
   "source": [
    "In this cluster neigborhood Zirmunai have least gyms, this area also might be potencial for new gym."
   ]
  },
  {
   "cell_type": "markdown",
   "metadata": {},
   "source": [
    "## Results and Discussion <a name=\"results\"></a>"
   ]
  },
  {
   "cell_type": "markdown",
   "metadata": {},
   "source": [
    "Our analysis shows that there is 34 gyms in Vilnius. Some areas don't have any gyms. Those areas might be interesting to open new gym, but there is always a possibility, that area due at the moment unnown reason is not suitable for fitness industy. That why for further analysis we looked at areas where already is competition. Areas with highest and least compeatition were found. In least competition areas we have found two neigbohoods which might be suitable for opening new gym."
   ]
  },
  {
   "cell_type": "markdown",
   "metadata": {},
   "source": [
    "## Conclusion <a name=\"conclusion\"></a>"
   ]
  },
  {
   "cell_type": "markdown",
   "metadata": {},
   "source": [
    "Questions that where answered in this project:\n",
    "1.\tThere is 5 neghborhoods without any gym:\n",
    "* Grigiškes\n",
    "* Naujoji Vilnia\n",
    "* Paneriai\n",
    "* Rasos\n",
    "* Verkiai\n",
    "2.\tThere are two area with most gyms:\n",
    "* Naujamiestis\n",
    "* Šnipiškės\n",
    "3.\tAreas with least number of gyms:\n",
    "* Justiniškes\n",
    "* Lazdynai\n",
    "* Vilkpede\n",
    "* Seskine\n",
    "* Zverynas\n",
    "4. Areas with least competition:\n",
    "* Fabijoniskes\n",
    "* Zirmunai"
   ]
  },
  {
   "cell_type": "code",
   "execution_count": null,
   "metadata": {},
   "outputs": [],
   "source": []
  }
 ],
 "metadata": {
  "kernelspec": {
   "display_name": "Python 3",
   "language": "python",
   "name": "python3"
  },
  "language_info": {
   "codemirror_mode": {
    "name": "ipython",
    "version": 3
   },
   "file_extension": ".py",
   "mimetype": "text/x-python",
   "name": "python",
   "nbconvert_exporter": "python",
   "pygments_lexer": "ipython3",
   "version": "3.8.5"
  }
 },
 "nbformat": 4,
 "nbformat_minor": 4
}
