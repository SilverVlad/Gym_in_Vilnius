{
 "cells": [
  {
   "cell_type": "markdown",
   "metadata": {},
   "source": [
    "# Coursera Capstone Project"
   ]
  },
  {
   "cell_type": "markdown",
   "metadata": {},
   "source": [
    "## *Opening a gym in Vilnius*"
   ]
  },
  {
   "cell_type": "markdown",
   "metadata": {},
   "source": [
    "![](https://upload.wikimedia.org/wikipedia/commons/4/4e/Vilnius_view.jpg)"
   ]
  },
  {
   "cell_type": "markdown",
   "metadata": {},
   "source": [
    "### Introduction\n",
    "Vilnius is the capital and the largest city of Lithuania. The city itself has a population of ~550 000 people. Vilnius consist of 21 elderships, a statewide administrative division, which are based on neighbourhoods. Many people around the world are facing serious health issues associated with unhealthy eating habits and a lack of exercise.  With growing health concerns, more people are joining gyms for exercise and the motivation to change their eating habits. Lately Vilnius has beed growing very fast resulting in growing demand of gyms. \n"
   ]
  },
  {
   "cell_type": "markdown",
   "metadata": {},
   "source": [
    "### Business problem\n",
    "Ths final project explores the best places to open new gym throughout the city of Vilnius. Questions that will be answered in this project:\n",
    "1.\tWhat is best location in Vilnius to open new gym?\n",
    "2.\tWhich areas have large number of gyms?\n",
    "3.\tWhich all areas have less number of gyms?\n",
    "4.\tWhich is the best place to stay if I prefer to visit gym?\n",
    "5.\tWhat places are have best gyms in Vilnius?\n"
   ]
  },
  {
   "cell_type": "markdown",
   "metadata": {},
   "source": [
    "### Targert audience\n",
    "This project is particularly useful to developers and investors looking to open or invest in fitness industy in Vilnius. Why did we decide to focus on fitness industry in our project? Now when the idea of a healthy lifestyle conquered the minds of people all over the world, gyms became extremely popular as minimal amount of daily exercise will help maintain a long and healthy life.\n"
   ]
  },
  {
   "cell_type": "markdown",
   "metadata": {},
   "source": [
    "### Data\n",
    "To solve the problem, we will need the following data:\n",
    "1.\tVilnius city data containg neighborhoods.\n",
    "2.\tCoordinates of those neighborhoods.\n",
    "3.\tVenue data, particulary data related to fitness industry.\n"
   ]
  },
  {
   "cell_type": "markdown",
   "metadata": {},
   "source": [
    "### Data source\n",
    "Vilnius city data containing the neihborhoods will be obrained from wikipedia. After it, we will get geografical coordinates of the neighborhoods using Python Geocoder package.\n",
    "To get the venue data for the neighborhoods we will use Foursquare API. We are particulartly interested in the gyms/fitness industry data to solve business problem defined above.\n"
   ]
  },
  {
   "cell_type": "code",
   "execution_count": null,
   "metadata": {},
   "outputs": [],
   "source": []
  }
 ],
 "metadata": {
  "kernelspec": {
   "display_name": "Python 3",
   "language": "python",
   "name": "python3"
  },
  "language_info": {
   "codemirror_mode": {
    "name": "ipython",
    "version": 3
   },
   "file_extension": ".py",
   "mimetype": "text/x-python",
   "name": "python",
   "nbconvert_exporter": "python",
   "pygments_lexer": "ipython3",
   "version": "3.8.5"
  }
 },
 "nbformat": 4,
 "nbformat_minor": 4
}
